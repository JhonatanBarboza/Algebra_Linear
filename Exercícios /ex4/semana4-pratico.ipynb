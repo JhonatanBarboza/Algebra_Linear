{
  "cells": [
    {
      "cell_type": "markdown",
      "metadata": {
        "id": "BRGRh7hL1vzP"
      },
      "source": [
        "####**Exercício 01**\n",
        "Seja $T:\\mathbb{R}^2 \\to \\mathbb{R}^2$ a transformação linear tal que $T(1,0) = (cos\\;\\theta,\\;sen\\;\\theta)$ e $T(0,1) = (-sen\\;\\theta,\\;cos\\;\\theta)$, com $\\theta \\in \\mathbb{R}$.\n",
        "\n",
        "- Determine a transformação $T$ e sua matriz na base canônica.\n",
        "- Implemente uma função que recebe um parâmetro $\\theta$ e retorna a matriz da transformação $T$.\n",
        "- Aplique essa transformação no triângulo de vértices $(-1,1)$, $(1,1)$ e $(0,1)$ com $\\theta=\\pi / 4$ e visualize o resultado. O que você pode observar em relação a transformação $T$ ?"
      ]
    },
    {
      "cell_type": "code",
      "execution_count": null,
      "metadata": {
        "id": "mAOx4IIf1zuA"
      },
      "outputs": [],
      "source": []
    },
    {
      "cell_type": "markdown",
      "metadata": {
        "id": "iGcn4PCb1yvP"
      },
      "source": [
        "####**Exercício 02**\n",
        "Determine uma transformação linear $T:\\mathbb{R}^5 \\to \\mathbb{R}^3$ tal que $Im(T) = [(1,0,0),(0,1,0),(1,1,1)]$ e $Ker(T) = [(1,1,1,1,1),(1,1,1,1,0)]$."
      ]
    },
    {
      "cell_type": "code",
      "execution_count": null,
      "metadata": {
        "id": "lLMZQJjy17r4"
      },
      "outputs": [],
      "source": []
    }
  ],
  "metadata": {
    "colab": {
      "provenance": []
    },
    "kernelspec": {
      "display_name": "Python 3",
      "name": "python3"
    },
    "language_info": {
      "name": "python"
    }
  },
  "nbformat": 4,
  "nbformat_minor": 0
}
