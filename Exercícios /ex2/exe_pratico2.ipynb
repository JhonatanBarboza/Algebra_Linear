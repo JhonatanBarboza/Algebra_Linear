{
  "cells": [
    {
      "cell_type": "markdown",
      "metadata": {
        "id": "AyLdYJ86qik0"
      },
      "source": [
        "### Exercício 01 - Subespaço\n",
        "\n",
        "Considere, em $\\mathbb{R}^3$, o plano dado pela equação $x+y-z=0$.\n",
        "Os vetores $u=[1, 0, 1]^\\top$ e $v=[0, 1, 1]^\\top$ pertencem a tal plano (como verificar esta afirmação?). Qualquer combinação linear $w=au + bv$, com $a,b\\in \\mathbb{R}$, pertence ao plano, pois\n",
        "\n",
        "$$\n",
        "w = \\begin{bmatrix} a \\\\ b \\\\ a+b \\end{bmatrix}.\n",
        "$$\n",
        "\n",
        "Logo o plano corresponde a um subespaço de $\\mathbb{R}^3$.\n",
        "- Implemente uma visualização desse subespaço com os vetores $u$ e $v$ e uma combinação linear qualquer desses vetores."
      ]
    },
    {
      "cell_type": "markdown",
      "metadata": {
        "id": "fWg1i0fgq1E9"
      },
      "source": [
        "### Exercício 02 - Mudança de base\n",
        "Considere a base $B$ de $\\mathbb{R}^3$ formada pelos vetores $(1,0,1)$, $(1,1,1)$ e $(1,1,2)$. Considere também a base $C$ formada pelos vetores $(1,0,0)$, $(0,1,0)$ e $(0,0,1)$.\n",
        "- Calcule $M_B^C$ e $M_C^B$\n",
        "- Generalize o cálculo da matriz de mudança de base em uma função.\n",
        "- Sejam as coordenadas do vetor $v$ em relação a base $C$ dadas por $v_C = [8, 7, 1]^\\top$. Calcule as coordenadas do vetor $v$ em relação a base $B$."
      ]
    }
  ],
  "metadata": {
    "colab": {
      "provenance": []
    },
    "kernelspec": {
      "display_name": "Python 3",
      "name": "python3"
    },
    "language_info": {
      "name": "python",
      "version": "3.12.3"
    }
  },
  "nbformat": 4,
  "nbformat_minor": 0
}
