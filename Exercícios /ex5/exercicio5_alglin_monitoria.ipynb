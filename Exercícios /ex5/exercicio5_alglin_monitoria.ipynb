{
  "cells": [
    {
      "cell_type": "markdown",
      "metadata": {
        "id": "mGsa45M5zkAV"
      },
      "source": [
        "**Exercício 01**\n",
        "\n",
        "Construa o operador linear diagonalizável $T:\\mathbb{R}^3 \\to \\mathbb{R}^3$ que tenha $2$ e $9$ como autovalores de modo que os autoespaços sejam $V(2) = [(1,2,0),(0,6,1)]$ e $V(9) = [(1,1,1)]$."
      ]
    },
    {
      "cell_type": "code",
      "execution_count": null,
      "metadata": {
        "id": "hIdWTV5Lzs-O"
      },
      "outputs": [],
      "source": []
    },
    {
      "cell_type": "markdown",
      "metadata": {
        "id": "xVoknYO6ztS9"
      },
      "source": [
        "**Exercício 02**\n",
        "\n",
        "Construa uma transformação linear que mapeia o vetor $\\mathbf{v}=[1,1,1,1,1]\\in\\mathbb{R}^5$ nele mesmo, ou seja, a transformação deve satisfazer $\\mathbf{A}\\mathbf{v}=\\mathbf{v}$."
      ]
    },
    {
      "cell_type": "code",
      "execution_count": null,
      "metadata": {
        "id": "mVRq6DPTzzGV"
      },
      "outputs": [],
      "source": []
    }
  ],
  "metadata": {
    "colab": {
      "provenance": []
    },
    "kernelspec": {
      "display_name": "Python 3",
      "name": "python3"
    },
    "language_info": {
      "name": "python"
    }
  },
  "nbformat": 4,
  "nbformat_minor": 0
}
