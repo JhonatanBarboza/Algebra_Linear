{
  "nbformat": 4,
  "nbformat_minor": 0,
  "metadata": {
    "colab": {
      "provenance": []
    },
    "kernelspec": {
      "name": "python3",
      "display_name": "Python 3"
    },
    "language_info": {
      "name": "python"
    }
  },
  "cells": [
    {
      "cell_type": "markdown",
      "source": [
        "#Exercício 1\n",
        "\n",
        "Considere, no espaço $\\mathbb{R}^2$, as normas euclidiana $||.||_2$, da soma $||.||_1$ e do máximo $||.||_\\infty$. Determine, geometricamente, para cada uma dessas normas, o conjunto $B=\\{x\\in \\mathbb{R}^2 / ||x||=1\\}$.\n",
        "\n",
        "\n"
      ],
      "metadata": {
        "id": "VV0NlPvuzkVF"
      }
    },
    {
      "cell_type": "markdown",
      "metadata": {
        "id": "GoEtW7_Rz8Xh"
      },
      "source": [
        "###**Exemplos de normas do $\\mathbb{R}^n$**\n",
        "\n",
        "- $$\\|\\mathbf{x}\\|_2 = \\bigg( \\sum_{i=1}^n |x_i|^2 \\bigg)^{1/2}, \\qquad\n",
        "\\|\\mathbf{x}\\|_\\infty = \\max \\limits _{1 \\leq i \\leq n} | x_{i} |, \\qquad\n",
        "\\|\\mathbf{x}\\|_1 = \\sum _{i=1} ^n | x_{i} |$$\n",
        "\n",
        "- $\\|\\mathbf{x}\\|_p = \\bigg( \\sum_{i=1}^n |x_i|^p \\bigg)^{1/p}, \\; p \\geq 1$\n",
        "\n",
        "- Esfera com centro na origem e raio unitário.\n",
        "$$S = \\{\\mathbf{x} \\in \\mathbb{R}^n; \\; \\|\\mathbf{x}\\|=1\\}$$\n"
      ]
    },
    {
      "cell_type": "code",
      "source": [],
      "metadata": {
        "id": "p5AvL7BT0Sv1"
      },
      "execution_count": null,
      "outputs": []
    },
    {
      "cell_type": "markdown",
      "source": [
        "#Exercício 2\n",
        "Considere uma base $B =  \\{\\mathbf{v}_1,\\ldots,\\mathbf{v}_{10}\\}$ do $\\mathbb{R}^{10}$ gerada pelo código abaixo. Implemente um código do processo de ortogonalização de Gram-Schmidt e obtenha uma base ortonormal do $\\mathbb{R}^{10}$ a partir de $B$."
      ],
      "metadata": {
        "id": "DlMrGdXOvzdx"
      }
    },
    {
      "cell_type": "code",
      "execution_count": null,
      "metadata": {
        "colab": {
          "base_uri": "https://localhost:8080/"
        },
        "id": "bgrkoHGx4MnE",
        "outputId": "98940a48-f24d-4058-bd90-a8ecf977613a"
      },
      "outputs": [
        {
          "output_type": "stream",
          "name": "stdout",
          "text": [
            "v1 = [ 4  3  2  0  2  1  2  0  0 -2]\n",
            "v2 = [ 0  0  2 -3  2 -1 -2  3 -2 -2]\n",
            "v3 = [ 1 -1 -1 -3  3  3 -2  0  2  0]\n",
            "v4 = [ 3  1  0  0  2  1 -3  1  2 -2]\n",
            "v5 = [-1  0  1 -1  0 -3 -2  3  2 -2]\n",
            "v6 = [ 1 -1 -3  3  0  4  1 -1 -2  2]\n",
            "v7 = [ 1  2  0 -2  3 -2 -1  2  0  0]\n",
            "v8 = [ 3  1 -2  0  0  0  0 -2  2  2]\n",
            "v9 = [-2 -2  2  0 -3 -3  0  0  2  3]\n",
            "v10 = [-1  0  1  3 -1  0  3 -2  3  4]\n"
          ]
        }
      ],
      "source": [
        "import numpy as np\n",
        "\n",
        "# Garantir reprodutibilidade\n",
        "np.random.seed(42)\n",
        "\n",
        "# Começar com a matriz identidade\n",
        "I = np.identity(10, dtype=int)\n",
        "\n",
        "# Adicionar pequenas perturbações inteiras para evitar vetores ortogonais triviais\n",
        "perturbation = np.random.randint(-3, 4, size=(10, 10))  # valores entre -3 e 3\n",
        "B_int = I + perturbation\n",
        "\n",
        "# Verificar se os vetores são linearmente independentes\n",
        "rank = np.linalg.matrix_rank(B_int)\n",
        "if rank == 10:\n",
        "    # Imprimir vetores\n",
        "    for i in range(10):\n",
        "        print(f\"v{i+1} = {B_int[:, i]}\")\n",
        "else:\n",
        "    print(\"Os vetores não são linearmente independentes. Tente novamente.\")\n",
        "\n",
        "\n"
      ]
    },
    {
      "cell_type": "code",
      "source": [],
      "metadata": {
        "id": "MJWrOtjR7tZP"
      },
      "execution_count": null,
      "outputs": []
    }
  ]
}