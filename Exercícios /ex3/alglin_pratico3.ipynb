{
  "nbformat": 4,
  "nbformat_minor": 0,
  "metadata": {
    "colab": {
      "provenance": []
    },
    "kernelspec": {
      "name": "python3",
      "display_name": "Python 3"
    },
    "language_info": {
      "name": "python"
    }
  },
  "cells": [
    {
      "cell_type": "markdown",
      "source": [
        "### Exercício 01 - Subespaço\n",
        "Considere os subespaços de $\\mathbb{R}^3$ dados por\n",
        "$$\n",
        "U = \\{(x,y,z) \\in \\mathbb{R}^3; x = 0 \\} \\quad \\text{e}\\quad\n",
        "V = \\{(x,y,z) \\in \\mathbb{R}^3; y = 0 \\}.\n",
        "$$\n",
        "Observe que $\\mathbb{R}^3 = U + V$, porém a soma não é direta.\n",
        "\n",
        "Implemente uma visualização adequada para $U$, $V$ e  $U \\cap V$."
      ],
      "metadata": {
        "id": "Wyu-TxCv6FmC"
      }
    },
    {
      "cell_type": "code",
      "source": [],
      "metadata": {
        "id": "9zydgp666Nwg"
      },
      "execution_count": null,
      "outputs": []
    },
    {
      "cell_type": "markdown",
      "source": [
        "#### Exercício 02 - Transformação Linear\n",
        "Seja a transformação linear $T:\\mathbb{R}^2 \\to \\mathbb{R}^2$ associada a matriz\n",
        "$$ A =\n",
        "\\begin{bmatrix}\n",
        "2 & 1 \\\\\n",
        "1 & 2\n",
        "\\end{bmatrix}\n",
        ".$$\n",
        "Considere a circunferência $C=\\{(x,y)\\in\\mathbb{R}^2;\\; x^2+y^2=1\\}$. Implemente uma visualização da imagem da circunferência $C$ pela transformação linear $T$.\n",
        "- Dica: Discretize um conjunto de pontos de $C$ através da parametrização $(x, y) = (cos(t), sen(t))$ e aplique a transformação nesses pontos."
      ],
      "metadata": {
        "id": "SDf8aPmy7aY2"
      }
    },
    {
      "cell_type": "code",
      "source": [],
      "metadata": {
        "id": "1s7AA6X_7joV"
      },
      "execution_count": null,
      "outputs": []
    }
  ]
}