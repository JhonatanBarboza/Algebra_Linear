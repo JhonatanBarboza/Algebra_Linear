{
  "cells": [
    {
      "cell_type": "markdown",
      "metadata": {
        "id": "6tqurAXg9AGv"
      },
      "source": [
        "\n",
        "\n",
        "\n",
        "\n",
        "#### Exercício - Subespaço Gerado\n",
        "\n",
        "Seja $W$ o subespaço de $M_{3\\times2}(\\mathbb{R})$ gerado pelas matrizes\n",
        "\n",
        "$$A_1 = \\begin{bmatrix} 0 & 0 \\\\ 1 & 1 \\\\ 0 & 0 \\end{bmatrix} , \\;\n",
        "A_2 = \\begin{bmatrix} 0 & 1 \\\\ 0 & -1 \\\\ 1 & 0 \\end{bmatrix} \\; \\text{e} \\;\n",
        "A_3 = \\begin{bmatrix} 0 & 1 \\\\ 0 & 0 \\\\ 0 & 0 \\end{bmatrix} .$$\n",
        "\n",
        "Implemente um código para verificar se a matriz $$A = \\begin{bmatrix} 0 & 2 \\\\ 3 & 4 \\\\ 5 & 0 \\end{bmatrix}$$ pertence ao subespaço $W$."
      ]
    },
    {
      "cell_type": "code",
      "execution_count": null,
      "metadata": {
        "id": "cvmyH0YJZOpk"
      },
      "outputs": [],
      "source": [
        "# Comece declarando as matrizes A1, A2, A3 e A:\n",
        "\n",
        "# A1 = ?\n",
        "# A2 = ?\n",
        "# A3 = ?\n",
        "# A = ?\n",
        "\n",
        "# Dica: resolva um sistema linear envolvendo as matrizes declaradas;"
      ]
    }
  ],
  "metadata": {
    "colab": {
      "provenance": []
    },
    "kernelspec": {
      "display_name": "Python 3",
      "name": "python3"
    },
    "language_info": {
      "name": "python"
    }
  },
  "nbformat": 4,
  "nbformat_minor": 0
}
